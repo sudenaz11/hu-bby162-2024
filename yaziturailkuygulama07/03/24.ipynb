{
  "nbformat": 4,
  "nbformat_minor": 0,
  "metadata": {
    "colab": {
      "provenance": [],
      "authorship_tag": "ABX9TyMc2PtT240h+WDLYsgGFAj/",
      "include_colab_link": true
    },
    "kernelspec": {
      "name": "python3",
      "display_name": "Python 3"
    },
    "language_info": {
      "name": "python"
    }
  },
  "cells": [
    {
      "cell_type": "markdown",
      "metadata": {
        "id": "view-in-github",
        "colab_type": "text"
      },
      "source": [
        "<a href=\"https://colab.research.google.com/github/sudenaz11/hu-bby162-2024/blob/main/yaziturailkuygulama07/03/24.ipynb\" target=\"_parent\"><img src=\"https://colab.research.google.com/assets/colab-badge.svg\" alt=\"Open In Colab\"/></a>"
      ]
    },
    {
      "source": [
        "import random\n",
        "\n",
        "# Initialize counters\n",
        "yazi_count = 0\n",
        "tura_count = 0\n",
        "\n",
        "# Loop 10 times\n",
        "for i in range(10):\n",
        "  # Generate random outcome\n",
        "  outcome = random.choice([\"yazi\", \"tura\"])\n",
        "\n",
        "  # Print outcome\n",
        "  print(outcome)\n",
        "\n",
        "  # Update counters\n",
        "  if outcome == \"yazi\":\n",
        "    yazi_count += 1\n",
        "  else:\n",
        "    tura_count += 1\n",
        "\n",
        "# Print final results\n",
        "print(\"Yazı:\", yazi_count)\n",
        "print(\"Tura:\", tura_count)"
      ],
      "cell_type": "code",
      "metadata": {
        "colab": {
          "base_uri": "https://localhost:8080/"
        },
        "id": "LN8a9oikE4LM",
        "outputId": "2329f392-edca-4807-a830-10ebea13914a"
      },
      "execution_count": 10,
      "outputs": [
        {
          "output_type": "stream",
          "name": "stdout",
          "text": [
            "yazi\n",
            "yazi\n",
            "tura\n",
            "tura\n",
            "tura\n",
            "tura\n",
            "yazi\n",
            "tura\n",
            "tura\n",
            "tura\n",
            "Yazı: 3\n",
            "Tura: 7\n"
          ]
        }
      ]
    }
  ]
}