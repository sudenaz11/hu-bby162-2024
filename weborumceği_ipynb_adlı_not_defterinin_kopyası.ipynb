{
  "nbformat": 4,
  "nbformat_minor": 0,
  "metadata": {
    "colab": {
      "provenance": [],
      "mount_file_id": "1P7xl2LFnxZm_nDPuMmV0taDuaI4B6_Hi",
      "authorship_tag": "ABX9TyMi2tQrxeKBcxhIlQgnSlhC",
      "include_colab_link": true
    },
    "kernelspec": {
      "name": "python3",
      "display_name": "Python 3"
    },
    "language_info": {
      "name": "python"
    }
  },
  "cells": [
    {
      "cell_type": "markdown",
      "metadata": {
        "id": "view-in-github",
        "colab_type": "text"
      },
      "source": [
        "<a href=\"https://colab.research.google.com/github/sudenaz11/hu-bby162-2024/blob/main/weborumce%C4%9Fi_ipynb_adl%C4%B1_not_defterinin_kopyas%C4%B1.ipynb\" target=\"_parent\"><img src=\"https://colab.research.google.com/assets/colab-badge.svg\" alt=\"Open In Colab\"/></a>"
      ]
    },
    {
      "cell_type": "code",
      "execution_count": null,
      "metadata": {
        "id": "mBG6QoS8L2TY"
      },
      "outputs": [],
      "source": [
        "from bs4 import BeautifulSoup\n",
        "import requests\n",
        "url_input = input(\"web sitesinin urlsini gir:\")\n",
        "int(input(\"tarama derinliği gir(  0-3)\"))\n",
        "url = \"https://hacettepe.edu.tr\"\n",
        "response = requests.get(url)\n",
        "html_iceriği = response.content\n",
        "soup =BeautifulSoup(html_iceriği, \"html.parser\")\n",
        "baslik = soup.find(\"title\").text\n",
        "print(\"başlık:\", baslik)\n",
        "linkler = soup.find_all(\"a\")\n",
        "for link in linkler:\n",
        "   print(\"bağlantı:\", link.get(\"href\"))"
      ]
    }
  ]
}