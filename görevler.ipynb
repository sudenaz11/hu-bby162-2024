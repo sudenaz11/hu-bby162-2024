{
  "nbformat": 4,
  "nbformat_minor": 0,
  "metadata": {
    "colab": {
      "provenance": [],
      "authorship_tag": "ABX9TyO3Ng+Sr4V9S7V1ECr6A9gt",
      "include_colab_link": true
    },
    "kernelspec": {
      "name": "python3",
      "display_name": "Python 3"
    },
    "language_info": {
      "name": "python"
    }
  },
  "cells": [
    {
      "cell_type": "markdown",
      "metadata": {
        "id": "view-in-github",
        "colab_type": "text"
      },
      "source": [
        "<a href=\"https://colab.research.google.com/github/sudenaz11/hu-bby162-2024/blob/main/g%C3%B6revler.ipynb\" target=\"_parent\"><img src=\"https://colab.research.google.com/assets/colab-badge.svg\" alt=\"Open In Colab\"/></a>"
      ]
    },
    {
      "cell_type": "code",
      "execution_count": 1,
      "metadata": {
        "colab": {
          "base_uri": "https://localhost:8080/"
        },
        "id": "NHYu1XBmBjy4",
        "outputId": "3d3f1708-b809-4b21-ca0e-3fbbc2aebb19"
      },
      "outputs": [
        {
          "output_type": "stream",
          "name": "stdout",
          "text": [
            "selam\n"
          ]
        }
      ],
      "source": [
        "print(\"selam\")"
      ]
    },
    {
      "cell_type": "code",
      "source": [
        "eposta = \"sudenazaydin755@gmil.com\"\n",
        "print(\"eposta: \" + eposta)"
      ],
      "metadata": {
        "colab": {
          "base_uri": "https://localhost:8080/"
        },
        "id": "j0zPGzamIaeF",
        "outputId": "1671e771-fb58-412e-bfe1-5746c0ff7c69"
      },
      "execution_count": 2,
      "outputs": [
        {
          "output_type": "stream",
          "name": "stdout",
          "text": [
            "eposta: sudenazaydin755@gmil.com\n"
          ]
        }
      ]
    },
    {
      "cell_type": "code",
      "source": [
        "sude1 = \"aydın\"\n",
        "print(sude2)"
      ],
      "metadata": {
        "colab": {
          "base_uri": "https://localhost:8080/",
          "height": 158
        },
        "id": "Rm2zQUWHJdP6",
        "outputId": "69b6a892-0dee-4a11-ae8f-45cfd99657dc"
      },
      "execution_count": 4,
      "outputs": [
        {
          "output_type": "error",
          "ename": "NameError",
          "evalue": "name 'sude2' is not defined",
          "traceback": [
            "\u001b[0;31m---------------------------------------------------------------------------\u001b[0m",
            "\u001b[0;31mNameError\u001b[0m                                 Traceback (most recent call last)",
            "\u001b[0;32m<ipython-input-4-cc1afe459d63>\u001b[0m in \u001b[0;36m<cell line: 2>\u001b[0;34m()\u001b[0m\n\u001b[1;32m      1\u001b[0m \u001b[0msude1\u001b[0m \u001b[0;34m=\u001b[0m \u001b[0;34m\"aydın\"\u001b[0m\u001b[0;34m\u001b[0m\u001b[0;34m\u001b[0m\u001b[0m\n\u001b[0;32m----> 2\u001b[0;31m \u001b[0mprint\u001b[0m\u001b[0;34m(\u001b[0m\u001b[0msude2\u001b[0m\u001b[0;34m)\u001b[0m\u001b[0;34m\u001b[0m\u001b[0;34m\u001b[0m\u001b[0m\n\u001b[0m",
            "\u001b[0;31mNameError\u001b[0m: name 'sude2' is not defined"
          ]
        }
      ]
    },
    {
      "cell_type": "code",
      "source": [
        "sayi = 3.14\n",
        "print(type(sayi))\n",
        "print(sayi)\n",
        "\n",
        "sayi = int(sayi)\n",
        "print(type(sayi))\n",
        "print(sayi)\n",
        "\n",
        "sayi = float(sayi)\n",
        "print(type(sayi))\n",
        "print(sayi)\n",
        "\n",
        "sayi = str(sayi)\n",
        "print(type(sayi))\n",
        "print(sayi)"
      ],
      "metadata": {
        "colab": {
          "base_uri": "https://localhost:8080/"
        },
        "id": "M5o_UM9hJ2xm",
        "outputId": "8145aa43-2516-48ff-fcc3-f03a7d40b8af"
      },
      "execution_count": 5,
      "outputs": [
        {
          "output_type": "stream",
          "name": "stdout",
          "text": [
            "<class 'float'>\n",
            "3.14\n",
            "<class 'int'>\n",
            "3\n",
            "<class 'float'>\n",
            "3.0\n",
            "<class 'str'>\n",
            "3.0\n"
          ]
        }
      ]
    },
    {
      "cell_type": "code",
      "source": [
        "sayi = 55\n",
        "sayi += 20\n",
        "print(sayi)\n",
        "\n",
        "sayi -= 10\n",
        "print(\"Sayı = \" + str(sayi))"
      ],
      "metadata": {
        "colab": {
          "base_uri": "https://localhost:8080/"
        },
        "id": "_7iZp0JoLbGI",
        "outputId": "e888bbc9-e01c-40c8-8549-22a101d5deee"
      },
      "execution_count": 6,
      "outputs": [
        {
          "output_type": "stream",
          "name": "stdout",
          "text": [
            "75\n",
            "Sayı = 65\n"
          ]
        }
      ]
    },
    {
      "cell_type": "code",
      "source": [
        "sifre = \"Python2020\"\n",
        "sifreTekrar = \"Python2020\"\n",
        "esitMi = (sifre == sifreTekrar)\n",
        "print(esitMi)\n",
        "\n",
        "sifre = \"Python2020\"\n",
        "sifreTekrar = \"Piton2020\"\n",
        "esitMi = (sifre == sifreTekrar)\n",
        "print(esitMi)"
      ],
      "metadata": {
        "colab": {
          "base_uri": "https://localhost:8080/"
        },
        "id": "eShoeqxoMB1j",
        "outputId": "c128ac56-a340-4d5b-fee2-8026f359bfa9"
      },
      "execution_count": 7,
      "outputs": [
        {
          "output_type": "stream",
          "name": "stdout",
          "text": [
            "True\n",
            "False\n"
          ]
        }
      ]
    },
    {
      "cell_type": "code",
      "source": [
        "hitap = \"Sayın\"\n",
        "ad = \"Sudenaz Berin\"\n",
        "soyad = \"AYDIN\"\n",
        "birleştir = hitap + \" \" + ad +\" \" + soyad\n",
        "print(birleştir)"
      ],
      "metadata": {
        "colab": {
          "base_uri": "https://localhost:8080/"
        },
        "id": "Xc1EprX0M_GD",
        "outputId": "eb8aacab-59d5-42f9-d79b-5116ad277ece"
      },
      "execution_count": 8,
      "outputs": [
        {
          "output_type": "stream",
          "name": "stdout",
          "text": [
            "Sayın Sudenaz Berin AYDIN\n"
          ]
        }
      ]
    },
    {
      "cell_type": "code",
      "source": [
        "metin = \"Hadi! yaa \"\n",
        "metniCarp = metin * 3\n",
        "print(metniCarp)"
      ],
      "metadata": {
        "colab": {
          "base_uri": "https://localhost:8080/"
        },
        "id": "vM_0IjVOOE-G",
        "outputId": "1f989b7e-60dc-4f48-8561-40c8abc4b0aa"
      },
      "execution_count": 11,
      "outputs": [
        {
          "output_type": "stream",
          "name": "stdout",
          "text": [
            "Hadi! yaa Hadi! yaa Hadi! yaa \n"
          ]
        }
      ]
    },
    {
      "cell_type": "code",
      "source": [
        "metin = \"Python Programlama Dili\"\n",
        "print(\"'p' harfini yakala: \" + metin[7])"
      ],
      "metadata": {
        "colab": {
          "base_uri": "https://localhost:8080/"
        },
        "id": "V9F9_50FPgix",
        "outputId": "16a7ad52-3680-43a3-a736-4452a3c3a856"
      },
      "execution_count": 12,
      "outputs": [
        {
          "output_type": "stream",
          "name": "stdout",
          "text": [
            "'p' harfini yakala: P\n"
          ]
        }
      ]
    },
    {
      "cell_type": "code",
      "source": [
        "metin = \"Python Programlama Dili\"\n",
        "iHarfi = metin[-1]\n",
        "print(iHarfi)"
      ],
      "metadata": {
        "colab": {
          "base_uri": "https://localhost:8080/"
        },
        "id": "oxK--82LPkZI",
        "outputId": "6c66d0b2-2cbb-45e3-a670-ea65da2f7b67"
      },
      "execution_count": 13,
      "outputs": [
        {
          "output_type": "stream",
          "name": "stdout",
          "text": [
            "i\n"
          ]
        }
      ]
    },
    {
      "cell_type": "code",
      "source": [
        "metin = \"Python Programlama Dili\"\n",
        "dilimle = metin[:6]\n",
        "print(dilimle)\n",
        "\n",
        "metin = \"Python Programlama Dili\"\n",
        "print(metin[7: + 18:])\n",
        "\n",
        "metin = \"Python Programlama Dili\"\n",
        "print(metin[19:])\n"
      ],
      "metadata": {
        "colab": {
          "base_uri": "https://localhost:8080/"
        },
        "id": "FpaeSx8xQPG9",
        "outputId": "5d48cb05-6e70-470e-acaf-ca626110e01a"
      },
      "execution_count": 14,
      "outputs": [
        {
          "output_type": "stream",
          "name": "stdout",
          "text": [
            "Python\n",
            "Programlama\n",
            "Dili\n"
          ]
        }
      ]
    },
    {
      "cell_type": "code",
      "source": [
        "metin = \"Python Programlama Dili\"\n",
        "print(\"Python\" in metin)"
      ],
      "metadata": {
        "colab": {
          "base_uri": "https://localhost:8080/"
        },
        "id": "zWZA-K3IRF-K",
        "outputId": "e3b9999c-ad55-4d69-e656-a8314745b699"
      },
      "execution_count": 15,
      "outputs": [
        {
          "output_type": "stream",
          "name": "stdout",
          "text": [
            "True\n"
          ]
        }
      ]
    },
    {
      "cell_type": "code",
      "source": [
        "metin = \"Python programlama dili, dünyada eğitim amacıyla en çok kullanılan programlama dillerinin başında gelir.\"\n",
        "dilimleme = metin [:51]\n",
        "print(dilimleme)"
      ],
      "metadata": {
        "colab": {
          "base_uri": "https://localhost:8080/"
        },
        "id": "xP63E5QaRs4B",
        "outputId": "17671703-c73a-4d67-922a-9c18bb82d2ed"
      },
      "execution_count": 18,
      "outputs": [
        {
          "output_type": "stream",
          "name": "stdout",
          "text": [
            "Python programlama dili, dünyada eğitim amacıyla en\n"
          ]
        }
      ]
    },
    {
      "cell_type": "code",
      "source": [
        "metin = 'Bilimsel çalışmalarda \"Python\" kullanımı Türkiye\\'de çok yaygınlaştı!'\n",
        "print(metin)"
      ],
      "metadata": {
        "colab": {
          "base_uri": "https://localhost:8080/"
        },
        "id": "QEgYSChXVojE",
        "outputId": "00cf5232-e042-4a34-b556-75311d61c398"
      },
      "execution_count": 19,
      "outputs": [
        {
          "output_type": "stream",
          "name": "stdout",
          "text": [
            "Bilimsel çalışmalarda \"Python\" kullanımı Türkiye'de çok yaygınlaştı!\n"
          ]
        }
      ]
    },
    {
      "cell_type": "code",
      "source": [
        "\n",
        "anahtarKelime = \"Makine Öğrenmesi\"\n",
        "arananKelime = \"makine öğrenmesi\"\n",
        "\n",
        "print(anahtarKelime.lower () == arananKelime)"
      ],
      "metadata": {
        "colab": {
          "base_uri": "https://localhost:8080/"
        },
        "id": "ztlGCle5Zy8q",
        "outputId": "a43d8ed9-299d-421b-f521-521910efecc1"
      },
      "execution_count": 29,
      "outputs": [
        {
          "output_type": "stream",
          "name": "stdout",
          "text": [
            "True\n"
          ]
        }
      ]
    },
    {
      "cell_type": "code",
      "source": [
        "adsoyad = \"Orçun Madran\"\n",
        "ders = \"Programla Dilleri\"\n",
        "\n",
        "print(\"Merhaba %s , bu dönemki dersiniz \\\"%s\\\". Başarılar!\" %(adsoyad,ders))\n"
      ],
      "metadata": {
        "colab": {
          "base_uri": "https://localhost:8080/"
        },
        "id": "3k6Xkaj5gTZN",
        "outputId": "c2087156-3677-4393-8924-2e7aedd5ece1"
      },
      "execution_count": 33,
      "outputs": [
        {
          "output_type": "stream",
          "name": "stdout",
          "text": [
            "Merhaba Orçun Madran , bu dönemki dersiniz \"Programla Dilleri\". Başarılar!\n"
          ]
        }
      ]
    },
    {
      "cell_type": "code",
      "source": [
        "urunAdi = \"Bisiklet\"\n",
        "urunBedeliAvro = 850\n",
        "pariteAvroTL = 7\n",
        "urunAdet = 3\n",
        "pesinAdetIndirimTL = 500\n",
        "print(\"urun fiyatı= \" + str(urunBedeliAvro*urunAdet*pariteAvroTL-pesinAdetIndirimTL))"
      ],
      "metadata": {
        "colab": {
          "base_uri": "https://localhost:8080/"
        },
        "id": "1cMC5WjuinWX",
        "outputId": "0e69bcc6-d98d-4f73-b2b2-d2f9eb038cf3"
      },
      "execution_count": 34,
      "outputs": [
        {
          "output_type": "stream",
          "name": "stdout",
          "text": [
            "urun fiyatı= 17350\n"
          ]
        }
      ]
    },
    {
      "cell_type": "code",
      "source": [
        "urunAdi = \"Bisiklet\"\n",
        "urunBedeliAvro = 850\n",
        "kurAvro = 7\n",
        "urunAdet = 3\n",
        "pesinAdetIndirimTL = 500\n",
        "butce = 15000\n",
        "urunfiyati = urunBedeliAvro*kurAvro*urunAdet-pesinAdetIndirimTL\n",
        "print(butce==urunfiyati)"
      ],
      "metadata": {
        "id": "DhwbvYXAipIS"
      },
      "execution_count": null,
      "outputs": []
    },
    {
      "cell_type": "markdown",
      "source": [],
      "metadata": {
        "id": "FHJ2ZJ7biw3V"
      }
    }
  ]
}