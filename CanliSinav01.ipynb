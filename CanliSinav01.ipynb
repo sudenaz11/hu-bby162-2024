{
  "nbformat": 4,
  "nbformat_minor": 0,
  "metadata": {
    "colab": {
      "provenance": [],
      "include_colab_link": true
    },
    "kernelspec": {
      "name": "python3",
      "display_name": "Python 3"
    },
    "language_info": {
      "name": "python"
    }
  },
  "cells": [
    {
      "cell_type": "markdown",
      "metadata": {
        "id": "view-in-github",
        "colab_type": "text"
      },
      "source": [
        "<a href=\"https://colab.research.google.com/github/sudenaz11/hu-bby162-2024/blob/main/CanliSinav01.ipynb\" target=\"_parent\"><img src=\"https://colab.research.google.com/assets/colab-badge.svg\" alt=\"Open In Colab\"/></a>"
      ]
    },
    {
      "cell_type": "markdown",
      "source": [
        "**Canlı Sınav 01'e hoşgeldiniz!**"
      ],
      "metadata": {
        "id": "ItmuxWgBbkC1"
      }
    },
    {
      "cell_type": "markdown",
      "source": [
        "Canlı sınav, bilgisayar laboratuvarında bilgisayar başında yapılan ve teslim edilen projeyi ifade etmektedir. Canlı sınavda yazmış olduğunuz kodlar sizin sorumluluğunuzdadır ve gerekirse hangi kodu neden yazdığınızı açık bir şekilde anlatabilmeniz gerekmektedir. Canlı sınav sırasında İnternet üzerindeki kaynaklar kullanılabilir ancak başka bir kişiden destek alınamaz.\n",
        "\n",
        "Canlı sınavın teslim şekli önceki proje çalışmasında olduğu gibidir. \"Canlı Sınav 01\" adlı Colab not defterinin bir kopyasını çıkarmalı, size ait olan bu kopya üzerinde soruları cevaplamalı, GitHub'daki ders deponuza size ait kopyayı yüklemeli ve not defterinin adresini metin alanına yazarak göndermelisiniz.\n",
        "\n",
        "Canlı sınavın doğru şekilde tamamlanması da sınavın önemli bir parçasıdır. Sınav için gönderdiğiniz adresi kontrol ediniz ve doğru dosyayı depoya yerleştirdiği bizden emin olunuz. Teslim sürecinde yapılan hatalar sınavdan 0 puan almanıza yol açabilir!\n",
        "\n",
        "Önemli Not: Soruları cecaplarken sadece şu ana kadar öğrendiğiniz kod yapılarını kullanmanız gerekmektedir!!!"
      ],
      "metadata": {
        "id": "KGjdjR5RbTgH"
      }
    },
    {
      "cell_type": "markdown",
      "source": [
        "**----- Sorular -----**"
      ],
      "metadata": {
        "id": "zBvdh4s8cOqM"
      }
    },
    {
      "cell_type": "markdown",
      "source": [
        "**Soru 1:** Bir giriş sisteminde kullanıcı adı olarak eposta ya da telefon numarası kullanılabilmektedir. Şifre ise tektir. Klavyeden doğru kullanıcı adı ve şifre girildiğinde ekrana \" Sisteme giriş yaptınız\" , yanlış kullanıcı adı girildiğinde \"kullanıcı adı hatalı\" , yanlış şifre girildiğinde \"şifre hatalı\" bilgisi yazdırılmalıdır. Kullanıcı adı hatalı ise şifre sorma adımına geçilmemelidir."
      ],
      "metadata": {
        "id": "ma0FVqgQiLBe"
      }
    },
    {
      "cell_type": "code",
      "source": [
        "kullanici_adi = \"admin\"\n",
        "ceptel = \"1234\"\n",
        "eposta = \"posta\"\n",
        "sifre = \"kartal\"\n",
        "\n",
        "gkuladi = input(\"Kullanıcı adınızı giriniz: \")\n",
        "gsifre = input(\"Şifrenizi giriniz: \")\n",
        "\n",
        "\n",
        "if gkuladi == kullanici_adi or gkuladi == ceptel or gkuladi == eposta:\n",
        "\n",
        "    if gsifre == sifre:\n",
        "        print(\"Sisteme giriş yaptınız.\")\n",
        "    else:\n",
        "        print(\"Şifre hatalı.\")\n",
        "else:\n",
        "    print(\"Kullanıcı adı hatalı.\")\n",
        "\n"
      ],
      "metadata": {
        "id": "Fj7wkLMcjp_7",
        "colab": {
          "base_uri": "https://localhost:8080/"
        },
        "outputId": "5dbf88b7-28c6-4545-d5ce-7dea0fb2bc27"
      },
      "execution_count": 4,
      "outputs": [
        {
          "output_type": "stream",
          "name": "stdout",
          "text": [
            "Kullanıcı adınızı giriniz: sude\n",
            "Şifrenizi giriniz: 12\n",
            "Kullanıcı adı hatalı.\n"
          ]
        }
      ]
    },
    {
      "cell_type": "markdown",
      "source": [
        "**Soru 2:** Klavyeden girilen bir insan ismindeki harf sayısına göre ekrana bir cümle yazdırınız. Örneğin 4 harfli bir isim girildiğinde ekrana \"Dört dörtlük bir isim\", 6 harfli bir isim girildiğinde ekrana \"Altıncı hissin kuvvetli\" yazılabilmelidir. Klavyeden üçten az ya da yediden çok harfe sahip bir isim girildiğinde ise ekrana \"isminiz sisteme uygun değildir\" mesajı yazdırılmalıdır."
      ],
      "metadata": {
        "id": "uZDiXJARgK4o"
      }
    },
    {
      "cell_type": "code",
      "source": [
        "isim = input(\"Lütfen bir isim giriniz: \")\n",
        "\n",
        "\n",
        "harf_sayisi = len(isim)\n",
        "\n",
        "\n",
        "if harf_sayisi == 3:\n",
        "    print(\"Üçüncü harfinde huzur var.\")\n",
        "elif harf_sayisi == 4:\n",
        "    print(\"Dört dörtlük bir isim.\")\n",
        "elif harf_sayisi == 5:\n",
        "    print(\"Beş para bir harf.\")\n",
        "elif harf_sayisi == 6:\n",
        "    print(\"Altıncı hissin kuvvetli.\")\n",
        "elif harf_sayisi == 7:\n",
        "    print(\"Yedinci göbekten geliyor.\")\n",
        "else:\n",
        "    print(\"İsminiz sisteme uygun değildir.\")\n",
        "\n",
        "\n"
      ],
      "metadata": {
        "id": "no7Zd1ZCh5U3",
        "colab": {
          "base_uri": "https://localhost:8080/"
        },
        "outputId": "e7b21d0f-b716-466c-df9e-72f9faa7e3de"
      },
      "execution_count": 5,
      "outputs": [
        {
          "output_type": "stream",
          "name": "stdout",
          "text": [
            "Lütfen bir isim giriniz: hasanı\n",
            "Altıncı hissin kuvvetli.\n"
          ]
        }
      ]
    },
    {
      "cell_type": "markdown",
      "source": [
        "**Soru 3:** 5 öğenin yer aldığı bir kelime tahmin oyunu oluşturun. Kelimeler bir liste içinde yer almalıdır. Klavyeden girilen kelime liste içinde yer alan kelimelerden biri ise ekrana \"bravo oyunu kazandınız\", aksi halde ise ekrana \"üzgünüm oyunu kaybettiniz\" mesajı gelmelidir."
      ],
      "metadata": {
        "id": "HnIqbjcCeNEV"
      }
    },
    {
      "cell_type": "code",
      "source": [
        "kelimeler = [\"elma\", \"armut\", \"çilek\", \"portakal\", \"karpuz\"]\n",
        "\n",
        "\n",
        "tahmin = input(\"Lütfen bir kelime tahmini giriniz: \")\n",
        "\n",
        "\n",
        "if tahmin in kelimeler:\n",
        "    print(\"Bravo! Oyunu kazandınız.\")\n",
        "else:\n",
        "    print(\"Üzgünüm! Oyunu kaybettiniz.\")\n",
        "\n",
        "\n"
      ],
      "metadata": {
        "id": "SjzG5g3ffTyv",
        "colab": {
          "base_uri": "https://localhost:8080/"
        },
        "outputId": "704a0e93-b0e6-4269-8c6c-fd35183f80db"
      },
      "execution_count": 6,
      "outputs": [
        {
          "output_type": "stream",
          "name": "stdout",
          "text": [
            "Lütfen bir kelime tahmini giriniz: karpuz\n",
            "Bravo! Oyunu kazandınız.\n"
          ]
        }
      ]
    },
    {
      "cell_type": "markdown",
      "source": [
        "**Soru 4:** 5 öğenin yer aldığı bir sözlük oluşturun. Bu sözlükte 5 kelime ve bu 5 kelimenin anlamları yer almalıdır. Klavyeden girilen anahtar (key) eğer sözlükte varsa kelimenin anlamı ekrana yazdırılmalıdır. Eğer anahtar sözlükte yoksa sözlükte aranan kelimenin olmadığı bilgisi ekrana yazdırılmalıdır."
      ],
      "metadata": {
        "id": "p49cZFjJcXoS"
      }
    },
    {
      "cell_type": "code",
      "execution_count": 7,
      "metadata": {
        "id": "3whYCDz3a8QZ",
        "colab": {
          "base_uri": "https://localhost:8080/"
        },
        "outputId": "92176008-f46b-421e-ddf7-81dc911f2ca7"
      },
      "outputs": [
        {
          "output_type": "stream",
          "name": "stdout",
          "text": [
            "Lütfen bir kelime giriniz: armut\n",
            "Armut, gülgiller familyasından, sonbaharda yetişen, birçok çeşidi olan meyve türü.\n"
          ]
        }
      ],
      "source": [
        "sozluk = {\n",
        "    \"elma\": \"Elma, gülgiller familyasından, genellikle Mayıs ve Haziran aylarında çiçek açan, çeşitli meyve türlerine verilen ad.\",\n",
        "    \"armut\": \"Armut, gülgiller familyasından, sonbaharda yetişen, birçok çeşidi olan meyve türü.\",\n",
        "    \"çilek\": \"Çilek, gülgiller familyasından, kırmızı, pembe veya beyaz renkte, tatlı ve sulu bir meyve.\",\n",
        "    \"portakal\": \"Portakal, turunçgiller familyasından, turuncu renkli, içi dilimlenmiş olarak yenilen bir meyve.\",\n",
        "    \"karpuz\": \"Karpuz, kabakgiller familyasından, yaz mevsiminde yetişen, büyük ve su dolu bir meyve.\"\n",
        "}\n",
        "\n",
        "\n",
        "anahtar = input(\"Lütfen bir kelime giriniz: \")\n",
        "\n",
        "\n",
        "if anahtar in sozluk:\n",
        "    print(sozluk[anahtar])\n",
        "else:\n",
        "    print(\"Sözlükte aranan kelime bulunamadı.\")\n",
        "\n",
        "\n"
      ]
    }
  ]
}